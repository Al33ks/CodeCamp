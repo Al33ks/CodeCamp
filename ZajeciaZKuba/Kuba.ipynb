{
 "cells": [
  {
   "cell_type": "code",
   "execution_count": null,
   "metadata": {
    "collapsed": true
   },
   "outputs": [],
   "source": []
  },
  {
   "cell_type": "code",
   "execution_count": null,
   "outputs": [],
   "source": [
    "from sklearn.datasets import load_iris\n",
    "from sklearn.model_selection import train_test_split\n",
    "from sklearn.preprocessing import StandardScaler\n",
    "from sklearn.neighbors import KNeighborsClassifier\n",
    "from sklearn.metrics import accuracy_score\n",
    "import matplotlib as plt\n",
    "iris = load_iris()\n",
    "# print(iris)\n",
    "x = iris['data']\n",
    "y = iris['target']\n",
    "print(x[100])\n",
    "print(y[100])\n",
    "sc = StandardScaler()\n",
    "x = sc.fit_transform(x)\n",
    "print(x[100])\n",
    "\n",
    "x_train, x_test, y_train, y_test = train_test_split(x, y, train_size= 0.8, random_state=42)\n",
    "print(len(x_train))\n",
    "print(len(x_test))\n",
    "print(len(y_train))\n",
    "print(len(y_test))\n",
    "model = KNeighborsClassifier(n_neighbors=3)\n",
    "model.fit(x_train, y_train)\n",
    "preds = model.predict(x_test)\n",
    "print(preds)\n",
    "\n",
    "model_knn_5 = KNeighborsClassifier(n_neighbors=5)\n",
    "model_knn_5.fit(x_train, y_train)\n",
    "preds_knn_5 = model_knn_5.predict(x_test)\n",
    "print(accuracy_score(y_test, preds))\n",
    "\n",
    "acc_scores = []\n",
    "for i in range(1,20):\n",
    "    model = KNeighborsClassifier(i)\n",
    "    model.fit(x_train, y_train)\n",
    "    model.fit(x_train, y_train)\n",
    "    preds = model.predict(x_test)\n",
    "    acc_scores.append(accuracy_score(y_test, preds))\n",
    "\n",
    "k_range = list(range(1,20))\n",
    "print(k_range)\n",
    "plt.plot(k_range, acc_scores)\n",
    "plt.xlabel('Value of K for KNN')\n",
    "plt.ylabel('Testing Accuracy')\n",
    "plt.show()\n"
   ],
   "metadata": {
    "collapsed": false,
    "pycharm": {
     "is_executing": true
    }
   }
  },
  {
   "cell_type": "code",
   "execution_count": null,
   "outputs": [],
   "source": [],
   "metadata": {
    "collapsed": false
   }
  }
 ],
 "metadata": {
  "kernelspec": {
   "display_name": "Python 3",
   "language": "python",
   "name": "python3"
  },
  "language_info": {
   "codemirror_mode": {
    "name": "ipython",
    "version": 2
   },
   "file_extension": ".py",
   "mimetype": "text/x-python",
   "name": "python",
   "nbconvert_exporter": "python",
   "pygments_lexer": "ipython2",
   "version": "2.7.6"
  }
 },
 "nbformat": 4,
 "nbformat_minor": 0
}
